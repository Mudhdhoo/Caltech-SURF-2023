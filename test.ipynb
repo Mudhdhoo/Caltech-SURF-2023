{
 "cells": [
  {
   "cell_type": "code",
   "execution_count": 4,
   "metadata": {},
   "outputs": [],
   "source": [
    "import numpy as np\n",
    "import numpy.matlib\n",
    "import matplotlib.pyplot as plt\n",
    "import pytv\n",
    "from scipy.io import loadmat, savemat\n",
    "from scipy.sparse import coo_matrix\n",
    "from Image import Image\n",
    "import os\n",
    "import torch"
   ]
  },
  {
   "cell_type": "code",
   "execution_count": 10,
   "metadata": {},
   "outputs": [
    {
     "ename": "NameError",
     "evalue": "name 'dual_update_fidelity' is not defined",
     "output_type": "error",
     "traceback": [
      "\u001b[0;31m---------------------------------------------------------------------------\u001b[0m",
      "\u001b[0;31mNameError\u001b[0m                                 Traceback (most recent call last)",
      "\u001b[0;32m<ipython-input-10-a60182e9052c>\u001b[0m in \u001b[0;36m<module>\u001b[0;34m\u001b[0m\n\u001b[1;32m     25\u001b[0m \u001b[0;34m\u001b[0m\u001b[0m\n\u001b[1;32m     26\u001b[0m     \u001b[0;31m# Dual update\u001b[0m\u001b[0;34m\u001b[0m\u001b[0;34m\u001b[0m\u001b[0;34m\u001b[0m\u001b[0m\n\u001b[0;32m---> 27\u001b[0;31m     \u001b[0mdual_update_fidelity\u001b[0m \u001b[0;34m=\u001b[0m \u001b[0;34m(\u001b[0m\u001b[0mdual_update_fidelity\u001b[0m \u001b[0;34m+\u001b[0m \u001b[0msigma_A\u001b[0m \u001b[0;34m*\u001b[0m \u001b[0;34m(\u001b[0m\u001b[0mcameraman_estimate\u001b[0m \u001b[0;34m-\u001b[0m \u001b[0mcameraman_noisy\u001b[0m\u001b[0;34m)\u001b[0m\u001b[0;34m)\u001b[0m\u001b[0;34m/\u001b[0m\u001b[0;34m(\u001b[0m\u001b[0;36m1.0\u001b[0m\u001b[0;34m+\u001b[0m\u001b[0msigma_A\u001b[0m\u001b[0;34m)\u001b[0m\u001b[0;34m\u001b[0m\u001b[0;34m\u001b[0m\u001b[0m\n\u001b[0m\u001b[1;32m     28\u001b[0m     \u001b[0mD_x\u001b[0m \u001b[0;34m=\u001b[0m \u001b[0mpytv\u001b[0m\u001b[0;34m.\u001b[0m\u001b[0mtv_operators_GPU\u001b[0m\u001b[0;34m.\u001b[0m\u001b[0mD_hybrid\u001b[0m\u001b[0;34m(\u001b[0m\u001b[0mcameraman_estimate\u001b[0m\u001b[0;34m)\u001b[0m\u001b[0;34m\u001b[0m\u001b[0;34m\u001b[0m\u001b[0m\n\u001b[1;32m     29\u001b[0m     \u001b[0mprox_argument\u001b[0m \u001b[0;34m=\u001b[0m \u001b[0mdual_update_TV\u001b[0m \u001b[0;34m+\u001b[0m \u001b[0msigma_D\u001b[0m \u001b[0;34m*\u001b[0m \u001b[0mD_x\u001b[0m\u001b[0;34m\u001b[0m\u001b[0;34m\u001b[0m\u001b[0m\n",
      "\u001b[0;31mNameError\u001b[0m: name 'dual_update_fidelity' is not defined"
     ]
    }
   ],
   "source": [
    "noise_level = 100\n",
    "nb_it = 300\n",
    "regularization = 25\n",
    "step_size = 5e-3 # If step size is too large, loss function may not decrease at every step\n",
    "\n",
    "np.random.seed(0)\n",
    "cameraman_truth = pytv.utils.cameraman() # Open the cameraman's grayscale image\n",
    "cameraman_truth = np.reshape(cameraman_truth, (1,1,)+cameraman_truth.shape)\n",
    "cameraman_noisy = cameraman_truth + noise_level * np.random.rand(*cameraman_truth.shape) # Add noise\n",
    "cameraman_estimate = np.copy(cameraman_noisy)\n",
    "\n",
    "loss_fct_GD = np.zeros([nb_it,])\n",
    "for it in range(nb_it): # A simple sub-gradient descent algorithm for image denoising\n",
    "    tv, G = pytv.tv_CPU.tv_hybrid(cameraman_estimate)\n",
    "    cameraman_estimate += - step_size * ((cameraman_estimate - cameraman_noisy) + regularization * G)\n",
    "    loss_fct_GD[it] = 0.5 * np.sum(np.square(cameraman_estimate - cameraman_noisy)) + regularization * tv\n",
    "\n",
    "# A simple version of the Chambolle & Pock algorithm for image denoising\n",
    "# Ref: Chambolle, Antonin, and Thomas Pock. \"A first-order primal-dual algorithm for convex problems with applications to imaging.\" Journal of mathematical imaging and vision 40.1 (2011): 120-145.\n",
    "sigma_D = 0.5\n",
    "sigma_A = 1.0\n",
    "tau = 1 / (8 + 1)\n",
    "\n",
    "for it in range(nb_it):\n",
    "\n",
    "    # Dual update\n",
    "    dual_update_fidelity = (dual_update_fidelity + sigma_A * (cameraman_estimate - cameraman_noisy))/(1.0+sigma_A)\n",
    "    D_x = pytv.tv_operators_GPU.D_hybrid(cameraman_estimate)\n",
    "    prox_argument = dual_update_TV + sigma_D * D_x\n",
    "    dual_update_TV = prox_argument / np.maximum(1.0, np.sqrt(np.sum(prox_argument**2, axis = 1)) / regularization)\n",
    "\n",
    "    # Primal update\n",
    "    cameraman_estimate = cameraman_estimate - tau * dual_update_fidelity - tau * pytv.tv_operators_GPU.D_T_hybrid(dual_update_TV)\n",
    "\n",
    "    # Loss function update\n",
    "    loss_fct_CP[it] = 0.5 * np.sum(np.square(cameraman_estimate - cameraman_noisy)) + regularization * pytv.tv_operators_GPU.compute_L21_norm(D_x)"
   ]
  },
  {
   "cell_type": "code",
   "execution_count": null,
   "metadata": {},
   "outputs": [],
   "source": []
  }
 ],
 "metadata": {
  "interpreter": {
   "hash": "2a6f67acb67282821c2e3678c5844005177c7e3bfa841b9903fc8bd722b75eac"
  },
  "kernelspec": {
   "display_name": "Python 3.8.8 ('base')",
   "language": "python",
   "name": "python3"
  },
  "language_info": {
   "codemirror_mode": {
    "name": "ipython",
    "version": 3
   },
   "file_extension": ".py",
   "mimetype": "text/x-python",
   "name": "python",
   "nbconvert_exporter": "python",
   "pygments_lexer": "ipython3",
   "version": "3.8.8"
  },
  "orig_nbformat": 4
 },
 "nbformat": 4,
 "nbformat_minor": 2
}
