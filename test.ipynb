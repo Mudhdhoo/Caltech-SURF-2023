{
 "cells": [
  {
   "cell_type": "code",
   "execution_count": 23,
   "metadata": {},
   "outputs": [],
   "source": [
    "import numpy as np\n",
    "import numpy.matlib\n",
    "import matplotlib.pyplot as plt\n",
    "from scipy.io import loadmat, savemat\n",
    "from scipy.sparse import coo_matrix\n",
    "from Image import Image\n",
    "import os"
   ]
  },
  {
   "cell_type": "code",
   "execution_count": 46,
   "metadata": {},
   "outputs": [
    {
     "data": {
      "text/plain": [
       "(array([-4.49999071, -3.66995037, -2.96716693, -2.32573249, -1.71999258,\n",
       "        -1.13611559, -0.56506958,  0.        ,  0.56506958,  1.13611559,\n",
       "         1.71999258,  2.32573249,  2.96716693,  3.66995037,  4.49999071]),\n",
       " array([1.52247580e-09, 1.05911555e-06, 1.00004441e-04, 2.77806884e-03,\n",
       "        3.07800339e-02, 1.58488916e-01, 4.12028687e-01, 5.64100309e-01,\n",
       "        4.12028687e-01, 1.58488916e-01, 3.07800339e-02, 2.77806884e-03,\n",
       "        1.00004441e-04, 1.05911555e-06, 1.52247580e-09]))"
      ]
     },
     "execution_count": 46,
     "metadata": {},
     "output_type": "execute_result"
    }
   ],
   "source": [
    "np.polynomial.hermite.hermgauss(15)\n"
   ]
  },
  {
   "cell_type": "code",
   "execution_count": null,
   "metadata": {},
   "outputs": [],
   "source": []
  }
 ],
 "metadata": {
  "interpreter": {
   "hash": "2a6f67acb67282821c2e3678c5844005177c7e3bfa841b9903fc8bd722b75eac"
  },
  "kernelspec": {
   "display_name": "Python 3.8.8 ('base')",
   "language": "python",
   "name": "python3"
  },
  "language_info": {
   "codemirror_mode": {
    "name": "ipython",
    "version": 3
   },
   "file_extension": ".py",
   "mimetype": "text/x-python",
   "name": "python",
   "nbconvert_exporter": "python",
   "pygments_lexer": "ipython3",
   "version": "3.8.8"
  },
  "orig_nbformat": 4
 },
 "nbformat": 4,
 "nbformat_minor": 2
}
