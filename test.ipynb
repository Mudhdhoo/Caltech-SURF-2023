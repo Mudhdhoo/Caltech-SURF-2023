{
 "cells": [
  {
   "cell_type": "code",
   "execution_count": 2,
   "metadata": {},
   "outputs": [],
   "source": [
    "import numpy as np\n",
    "import numpy.matlib\n",
    "import matplotlib.pyplot as plt\n",
    "import pytv\n",
    "from scipy.io import loadmat, savemat\n",
    "from scipy.sparse import coo_matrix\n",
    "from Image import Image\n",
    "import os\n",
    "import torch"
   ]
  },
  {
   "cell_type": "code",
   "execution_count": 50,
   "metadata": {},
   "outputs": [],
   "source": [
    "im = Image('heart', noise_std=0.1)\n",
    "y = im.y\n",
    "y = y.reshape(1,1,y.shape[0],y.shape[1])"
   ]
  },
  {
   "cell_type": "code",
   "execution_count": 61,
   "metadata": {},
   "outputs": [],
   "source": [
    "#np.random.seed(0)\n",
    "noise_level = 100\n",
    "nb_it = 300\n",
    "regularization = 0.1\n",
    "step_size = 5e-3 # If step size is too large, loss function may not decrease at every step\n",
    "cameraman_truth = pytv.utils.cameraman() # Open the cameraman's grayscale image\n",
    "cameraman_truth = np.reshape(cameraman_truth, (1,1,)+cameraman_truth.shape)\n",
    "cameraman_noisy = cameraman_truth + noise_level * np.random.rand(*cameraman_truth.shape) # Add noise\n",
    "cameraman_estimate = np.copy(cameraman_noisy)\n",
    "\n",
    "im_est = y\n",
    "\n",
    "loss_fct_CP = np.zeros([nb_it,])\n",
    "\n",
    "primal_update = np.zeros_like(y)\n",
    "dual_update_fidelity = np.zeros_like(y)\n",
    "dual_update_TV = np.zeros_like(y)\n",
    "\n",
    "# A simple version of the Chambolle & Pock algorithm for image denoising\n",
    "# Ref: Chambolle, Antonin, and Thomas Pock. \"A first-order primal-dual algorithm for convex problems with applications to imaging.\" Journal of mathematical imaging and vision 40.1 (2011): 120-145.\n",
    "sigma_D = 0.5\n",
    "sigma_A = 1.0\n",
    "tau = 1 / (8 + 1)\n",
    "\n",
    "for it in range(nb_it):\n",
    "\n",
    "    # Dual update\n",
    "    dual_update_fidelity = (dual_update_fidelity + sigma_A * (im_est - y))/(1.0+sigma_A)\n",
    "    D_x = pytv.tv_operators_CPU.D_hybrid(im_est)\n",
    "    prox_argument = dual_update_TV + sigma_D * D_x\n",
    "    dual_update_TV = prox_argument / np.maximum(1.0, np.sqrt(np.sum(prox_argument**2, axis = 1)) / regularization)\n",
    "\n",
    "    # Primal update\n",
    "    im_est = im_est- tau * dual_update_fidelity - tau * pytv.tv_operators_CPU.D_T_hybrid(dual_update_TV)\n",
    "\n",
    "    # Loss function update\n",
    "    loss_fct_CP[it] = 0.5 * np.sum(np.square(im_est - y)) + regularization * pytv.tv_operators_CPU.compute_L21_norm(D_x)"
   ]
  },
  {
   "cell_type": "code",
   "execution_count": 65,
   "metadata": {},
   "outputs": [
    {
     "name": "stdout",
     "output_type": "stream",
     "text": [
      "(1, 4, 1, 256, 256)\n"
     ]
    }
   ],
   "source": [
    "# plt.imshow(y[0,0])\n",
    "# plt.show()\n",
    "# plt.imshow(im_est[0,0])\n",
    "# plt.show()\n",
    "# plt.imshow(im.image)\n",
    "# plt.show()\n",
    "D_x = pytv.tv_operators_CPU.D_hybrid(im_est)\n",
    "print(D_x.shape)"
   ]
  },
  {
   "cell_type": "code",
   "execution_count": 157,
   "metadata": {},
   "outputs": [
    {
     "name": "stdout",
     "output_type": "stream",
     "text": [
      "[[1. 0.]\n",
      " [1. 0.]] [[2. 2.]\n",
      " [0. 0.]]\n",
      "[[-3. -1.]\n",
      " [ 1.  3.]]\n"
     ]
    }
   ],
   "source": [
    "from scipy.sparse import diags, eye, kron\n",
    "\n",
    "def grad_forward(u):\n",
    "    # Forward difference\n",
    "    M,N = u.shape\n",
    "\n",
    "    one = np.ones([M])\n",
    "    one[-1] = 0         # Boundary conditions\n",
    "    D1 = diags([-one, one], [0, 1], shape = [M,M])\n",
    "    D2 = diags([-one, one], [0, 1], shape = [N,N])\n",
    "\n",
    "    D1 = kron(eye(N), D1)\n",
    "    D2 = kron(D2, eye(M))\n",
    "\n",
    "    return D1, D2\n",
    "\n",
    "def grad_channel(u, D1, D2, M, N):\n",
    "    u = u.reshape(-1,1)\n",
    "    return np.reshape(np.concatenate((D1@u, D2@u),1), [M, N, 2])\n",
    "\n",
    "def div_channel(v, D1, D2, M, N):\n",
    "    return np.reshape(D1.T @ np.reshape(v[:,:,0], [M*N, 1]) + D2.T @ np.reshape(v[:,:,1], [M*N, 1]), [M, N])\n",
    "\n",
    "def KS(v, D1, D2, M, N, l):\n",
    "    if l > 1:\n",
    "        return np.concatenate((div_channel(v[:,:,0:2], D1, D2, M, N), div_channel(v[:,:,2:4], D1, D2, M, N), div_channel(v[:,:,4:6], D1, D2, M, N)))\n",
    "\n",
    "    return div_channel(v[:,:,0:2], D1, D2, M, N)\n",
    "\n",
    "u = np.array([[1,2],[3,4]])\n",
    "\n",
    "M,N = u.shape\n",
    "D1,D2 = grad_forward(u)\n",
    "grad = grad_channel(u, D1, D2, M, N)\n",
    "print(KS(grad, D1, D2, M, N, 1))"
   ]
  },
  {
   "cell_type": "code",
   "execution_count": 151,
   "metadata": {},
   "outputs": [
    {
     "name": "stdout",
     "output_type": "stream",
     "text": [
      "[[0.5        0.70710678 0.70710678]\n",
      " [0.70710678 0.70710678 0.70710678]\n",
      " [0.70710678 0.70710678 0.70710678]]\n",
      "[[0.5        0.70710678 0.70710678]\n",
      " [0.70710678 0.70710678 0.70710678]\n",
      " [0.70710678 0.70710678 0.70710678]]\n"
     ]
    }
   ],
   "source": [
    "def norms(z, p, dir):\n",
    "    if p == 1:\n",
    "        y = np.sum(abs(z),dir)\n",
    "    elif p == 'inf':\n",
    "        y = np.max(z.reshape(-1,1))\n",
    "    else:\n",
    "        y = np.sum(z**p, dir)**(1/p)\n",
    "\n",
    "    return y\n",
    "\n",
    "def proxFS(y, sigma0:float):\n",
    "    return (y / (1 + sigma0*1)) / np.stack((np.maximum(1, norms(y / (1 + sigma0*1), 2, 2)/1), np.maximum(1, norms(y / (1 + sigma0*1), 2, 2)/1)), 2)\n",
    "\n",
    "y = np.zeros([3,3,2])\n",
    "m = np.array([[1,2,3],[4,5,6],[7,8,9]])\n",
    "y[:,:,0] = m\n",
    "y[:,:,1] = m\n",
    "sigma0 = 1\n",
    "\n",
    "prox = proxFS(y,sigma0)\n",
    "print(prox[:,:,0])\n",
    "print(prox[:,:,1])"
   ]
  },
  {
   "cell_type": "code",
   "execution_count": 154,
   "metadata": {},
   "outputs": [
    {
     "name": "stdout",
     "output_type": "stream",
     "text": [
      "0\n",
      "1\n"
     ]
    }
   ],
   "source": [
    "def comp_next(n, k, a, more, h, t ):\n",
    "    pass\n",
    "\n",
    "def level_to_order_open(dim_num, level):\n",
    "    pass\n",
    "\n",
    "def sparse_grid_herm_size(dim_num, level_max):\n",
    "    if level_max == 0:\n",
    "        return 1\n",
    "\n",
    "    point_num = 0\n",
    "    level_min = max(0, level_max + 1 - dim_num)\n",
    "\n",
    "    for level in range(level_min, level_max):\n",
    "        level_1d = []\n",
    "        more = False\n",
    "        h = 0\n",
    "        t = 0\n",
    "\n",
    "        while True:\n",
    "            level_1d, more, h, t = comp_next(level, dim_num, level_1d, more, h, t)\n",
    "            order_1d = level_to_order_open(dim_num, level_1d)\n",
    "\n",
    "            for dim in range(0,dim_num):\n",
    "                if level_min < level and 1 < order_1d[dim]:\n",
    "                    order_1d[dim] = order_1d[dim] - 1\n",
    "\n",
    "            point_num = point_num + np.prod(order_1d[1:dim_num])\n",
    "\n",
    "            if not more:\n",
    "                break\n",
    "\n",
    "        return point_num\n"
   ]
  },
  {
   "cell_type": "code",
   "execution_count": 3,
   "metadata": {},
   "outputs": [
    {
     "data": {
      "text/plain": [
       "1"
      ]
     },
     "execution_count": 3,
     "metadata": {},
     "output_type": "execute_result"
    }
   ],
   "source": [
    "q = [1]\n",
    "q[0]"
   ]
  },
  {
   "cell_type": "code",
   "execution_count": null,
   "metadata": {},
   "outputs": [],
   "source": []
  }
 ],
 "metadata": {
  "interpreter": {
   "hash": "2a6f67acb67282821c2e3678c5844005177c7e3bfa841b9903fc8bd722b75eac"
  },
  "kernelspec": {
   "display_name": "Python 3.8.8 ('base')",
   "language": "python",
   "name": "python3"
  },
  "language_info": {
   "codemirror_mode": {
    "name": "ipython",
    "version": 3
   },
   "file_extension": ".py",
   "mimetype": "text/x-python",
   "name": "python",
   "nbconvert_exporter": "python",
   "pygments_lexer": "ipython3",
   "version": "3.8.8"
  },
  "orig_nbformat": 4
 },
 "nbformat": 4,
 "nbformat_minor": 2
}
