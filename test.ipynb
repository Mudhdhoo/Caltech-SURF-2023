{
 "cells": [
  {
   "cell_type": "code",
   "execution_count": 2,
   "metadata": {},
   "outputs": [],
   "source": [
    "import numpy as np\n",
    "import numpy.matlib\n",
    "import matplotlib.pyplot as plt\n",
    "import pytv\n",
    "from scipy.io import loadmat, savemat\n",
    "from scipy.sparse import coo_matrix\n",
    "from Image import Image\n",
    "import os\n",
    "import torch"
   ]
  },
  {
   "cell_type": "code",
   "execution_count": 3,
   "metadata": {},
   "outputs": [
    {
     "data": {
      "image/png": "[encoded data removed]",
      "text/plain": [
       "<Figure size 432x288 with 1 Axes>"
      ]
     },
     "metadata": {
      "needs_background": "light"
     },
     "output_type": "display_data"
    }
   ],
   "source": [
    "gt = loadmat(os.path.join('images','heart_truth'))['groundtruth']\n",
    "im = Image('heart', build_y = False, ground_truth = gt)\n",
    "plt.imshow(im.ground_truth)\n",
    "plt.axis('off')\n",
    "plt.savefig(f'/Users/johncao/Documents/Caltech_SURF_2023/Poster/Poster_images/truth.eps', bbox_inches='tight')\n",
    "plt.show()"
   ]
  },
  {
   "cell_type": "code",
   "execution_count": 61,
   "metadata": {},
   "outputs": [],
   "source": [
    "#np.random.seed(0)\n",
    "noise_level = 100\n",
    "nb_it = 300\n",
    "regularization = 0.1\n",
    "step_size = 5e-3 # If step size is too large, loss function may not decrease at every step\n",
    "cameraman_truth = pytv.utils.cameraman() # Open the cameraman's grayscale image\n",
    "cameraman_truth = np.reshape(cameraman_truth, (1,1,)+cameraman_truth.shape)\n",
    "cameraman_noisy = cameraman_truth + noise_level * np.random.rand(*cameraman_truth.shape) # Add noise\n",
    "cameraman_estimate = np.copy(cameraman_noisy)\n",
    "\n",
    "im_est = y\n",
    "\n",
    "loss_fct_CP = np.zeros([nb_it,])\n",
    "\n",
    "primal_update = np.zeros_like(y)\n",
    "dual_update_fidelity = np.zeros_like(y)\n",
    "dual_update_TV = np.zeros_like(y)\n",
    "\n",
    "# A simple version of the Chambolle & Pock algorithm for image denoising\n",
    "# Ref: Chambolle, Antonin, and Thomas Pock. \"A first-order primal-dual algorithm for convex problems with applications to imaging.\" Journal of mathematical imaging and vision 40.1 (2011): 120-145.\n",
    "sigma_D = 0.5\n",
    "sigma_A = 1.0\n",
    "tau = 1 / (8 + 1)\n",
    "\n",
    "for it in range(nb_it):\n",
    "\n",
    "    # Dual update\n",
    "    dual_update_fidelity = (dual_update_fidelity + sigma_A * (im_est - y))/(1.0+sigma_A)\n",
    "    D_x = pytv.tv_operators_CPU.D_hybrid(im_est)\n",
    "    prox_argument = dual_update_TV + sigma_D * D_x\n",
    "    dual_update_TV = prox_argument / np.maximum(1.0, np.sqrt(np.sum(prox_argument**2, axis = 1)) / regularization)\n",
    "\n",
    "    # Primal update\n",
    "    im_est = im_est- tau * dual_update_fidelity - tau * pytv.tv_operators_CPU.D_T_hybrid(dual_update_TV)\n",
    "\n",
    "    # Loss function update\n",
    "    loss_fct_CP[it] = 0.5 * np.sum(np.square(im_est - y)) + regularization * pytv.tv_operators_CPU.compute_L21_norm(D_x)"
   ]
  },
  {
   "cell_type": "code",
   "execution_count": 65,
   "metadata": {},
   "outputs": [
    {
     "name": "stdout",
     "output_type": "stream",
     "text": [
      "(1, 4, 1, 256, 256)\n"
     ]
    }
   ],
   "source": [
    "# plt.imshow(y[0,0])\n",
    "# plt.show()\n",
    "# plt.imshow(im_est[0,0])\n",
    "# plt.show()\n",
    "# plt.imshow(im.image)\n",
    "# plt.show()\n",
    "D_x = pytv.tv_operators_CPU.D_hybrid(im_est)\n",
    "print(D_x.shape)"
   ]
  },
  {
   "cell_type": "code",
   "execution_count": 157,
   "metadata": {},
   "outputs": [
    {
     "name": "stdout",
     "output_type": "stream",
     "text": [
      "[[1. 0.]\n",
      " [1. 0.]] [[2. 2.]\n",
      " [0. 0.]]\n",
      "[[-3. -1.]\n",
      " [ 1.  3.]]\n"
     ]
    }
   ],
   "source": [
    "from scipy.sparse import diags, eye, kron\n",
    "\n",
    "def grad_forward(u):\n",
    "    # Forward difference\n",
    "    M,N = u.shape\n",
    "\n",
    "    one = np.ones([M])\n",
    "    one[-1] = 0         # Boundary conditions\n",
    "    D1 = diags([-one, one], [0, 1], shape = [M,M])\n",
    "    D2 = diags([-one, one], [0, 1], shape = [N,N])\n",
    "\n",
    "    D1 = kron(eye(N), D1)\n",
    "    D2 = kron(D2, eye(M))\n",
    "\n",
    "    return D1, D2\n",
    "\n",
    "def grad_channel(u, D1, D2, M, N):\n",
    "    u = u.reshape(-1,1)\n",
    "    return np.reshape(np.concatenate((D1@u, D2@u),1), [M, N, 2])\n",
    "\n",
    "def div_channel(v, D1, D2, M, N):\n",
    "    return np.reshape(D1.T @ np.reshape(v[:,:,0], [M*N, 1]) + D2.T @ np.reshape(v[:,:,1], [M*N, 1]), [M, N])\n",
    "\n",
    "def KS(v, D1, D2, M, N, l):\n",
    "    if l > 1:\n",
    "        return np.concatenate((div_channel(v[:,:,0:2], D1, D2, M, N), div_channel(v[:,:,2:4], D1, D2, M, N), div_channel(v[:,:,4:6], D1, D2, M, N)))\n",
    "\n",
    "    return div_channel(v[:,:,0:2], D1, D2, M, N)\n",
    "\n",
    "u = np.array([[1,2],[3,4]])\n",
    "\n",
    "M,N = u.shape\n",
    "D1,D2 = grad_forward(u)\n",
    "grad = grad_channel(u, D1, D2, M, N)\n",
    "print(KS(grad, D1, D2, M, N, 1))"
   ]
  },
  {
   "cell_type": "code",
   "execution_count": 151,
   "metadata": {},
   "outputs": [
    {
     "name": "stdout",
     "output_type": "stream",
     "text": [
      "[[0.5        0.70710678 0.70710678]\n",
      " [0.70710678 0.70710678 0.70710678]\n",
      " [0.70710678 0.70710678 0.70710678]]\n",
      "[[0.5        0.70710678 0.70710678]\n",
      " [0.70710678 0.70710678 0.70710678]\n",
      " [0.70710678 0.70710678 0.70710678]]\n"
     ]
    }
   ],
   "source": [
    "def norms(z, p, dir):\n",
    "    if p == 1:\n",
    "        y = np.sum(abs(z),dir)\n",
    "    elif p == 'inf':\n",
    "        y = np.max(z.reshape(-1,1))\n",
    "    else:\n",
    "        y = np.sum(z**p, dir)**(1/p)\n",
    "\n",
    "    return y\n",
    "\n",
    "def proxFS(y, sigma0:float):\n",
    "    return (y / (1 + sigma0*1)) / np.stack((np.maximum(1, norms(y / (1 + sigma0*1), 2, 2)/1), np.maximum(1, norms(y / (1 + sigma0*1), 2, 2)/1)), 2)\n",
    "\n",
    "y = np.zeros([3,3,2])\n",
    "m = np.array([[1,2,3],[4,5,6],[7,8,9]])\n",
    "y[:,:,0] = m\n",
    "y[:,:,1] = m\n",
    "sigma0 = 1\n",
    "\n",
    "prox = proxFS(y,sigma0)\n",
    "print(prox[:,:,0])\n",
    "print(prox[:,:,1])"
   ]
  },
  {
   "cell_type": "code",
   "execution_count": 14,
   "metadata": {},
   "outputs": [
    {
     "ename": "TypeError",
     "evalue": "Cannot handle this data type: (1, 1, 3), <f8",
     "output_type": "error",
     "traceback": [
      "\u001b[0;31m---------------------------------------------------------------------------\u001b[0m",
      "\u001b[0;31mKeyError\u001b[0m                                  Traceback (most recent call last)",
      "\u001b[0;32m~/opt/anaconda3/lib/python3.8/site-packages/PIL/Image.py\u001b[0m in \u001b[0;36mfromarray\u001b[0;34m(obj, mode)\u001b[0m\n\u001b[1;32m   2771\u001b[0m         \u001b[0;32mtry\u001b[0m\u001b[0;34m:\u001b[0m\u001b[0;34m\u001b[0m\u001b[0;34m\u001b[0m\u001b[0m\n\u001b[0;32m-> 2772\u001b[0;31m             \u001b[0mmode\u001b[0m\u001b[0;34m,\u001b[0m \u001b[0mrawmode\u001b[0m \u001b[0;34m=\u001b[0m \u001b[0m_fromarray_typemap\u001b[0m\u001b[0;34m[\u001b[0m\u001b[0mtypekey\u001b[0m\u001b[0;34m]\u001b[0m\u001b[0;34m\u001b[0m\u001b[0;34m\u001b[0m\u001b[0m\n\u001b[0m\u001b[1;32m   2773\u001b[0m         \u001b[0;32mexcept\u001b[0m \u001b[0mKeyError\u001b[0m \u001b[0;32mas\u001b[0m \u001b[0me\u001b[0m\u001b[0;34m:\u001b[0m\u001b[0;34m\u001b[0m\u001b[0;34m\u001b[0m\u001b[0m\n",
      "\u001b[0;31mKeyError\u001b[0m: ((1, 1, 3), '<f8')",
      "\nThe above exception was the direct cause of the following exception:\n",
      "\u001b[0;31mTypeError\u001b[0m                                 Traceback (most recent call last)",
      "\u001b[0;32m<ipython-input-14-ee46a3b0a6ce>\u001b[0m in \u001b[0;36m<module>\u001b[0;34m\u001b[0m\n\u001b[1;32m      2\u001b[0m \u001b[0mcow\u001b[0m \u001b[0;34m=\u001b[0m \u001b[0mloadmat\u001b[0m\u001b[0;34m(\u001b[0m\u001b[0mos\u001b[0m\u001b[0;34m.\u001b[0m\u001b[0mpath\u001b[0m\u001b[0;34m.\u001b[0m\u001b[0mjoin\u001b[0m\u001b[0;34m(\u001b[0m\u001b[0;34m'images'\u001b[0m\u001b[0;34m,\u001b[0m\u001b[0;34m'image'\u001b[0m\u001b[0;34m)\u001b[0m\u001b[0;34m)\u001b[0m\u001b[0;34m[\u001b[0m\u001b[0;34m'image'\u001b[0m\u001b[0;34m]\u001b[0m\u001b[0;34m/\u001b[0m\u001b[0;36m213\u001b[0m\u001b[0;34m\u001b[0m\u001b[0;34m\u001b[0m\u001b[0m\n\u001b[1;32m      3\u001b[0m \u001b[0;34m\u001b[0m\u001b[0m\n\u001b[0;32m----> 4\u001b[0;31m \u001b[0mpil_cow\u001b[0m \u001b[0;34m=\u001b[0m \u001b[0mImage\u001b[0m\u001b[0;34m.\u001b[0m\u001b[0mfromarray\u001b[0m\u001b[0;34m(\u001b[0m\u001b[0mcow\u001b[0m\u001b[0;34m)\u001b[0m\u001b[0;34m\u001b[0m\u001b[0;34m\u001b[0m\u001b[0m\n\u001b[0m\u001b[1;32m      5\u001b[0m \u001b[0msize\u001b[0m \u001b[0;34m=\u001b[0m \u001b[0;36m0.2\u001b[0m\u001b[0;34m\u001b[0m\u001b[0;34m\u001b[0m\u001b[0m\n\u001b[1;32m      6\u001b[0m \u001b[0mpil_cow\u001b[0m \u001b[0;34m=\u001b[0m \u001b[0mpil_cow\u001b[0m\u001b[0;34m.\u001b[0m\u001b[0mresize\u001b[0m\u001b[0;34m(\u001b[0m\u001b[0;34m(\u001b[0m\u001b[0mint\u001b[0m\u001b[0;34m(\u001b[0m\u001b[0mcow\u001b[0m\u001b[0;34m.\u001b[0m\u001b[0mshape\u001b[0m\u001b[0;34m[\u001b[0m\u001b[0;36m1\u001b[0m\u001b[0;34m]\u001b[0m\u001b[0;34m*\u001b[0m\u001b[0msize\u001b[0m\u001b[0;34m)\u001b[0m\u001b[0;34m,\u001b[0m \u001b[0mint\u001b[0m\u001b[0;34m(\u001b[0m\u001b[0mcow\u001b[0m\u001b[0;34m.\u001b[0m\u001b[0mshape\u001b[0m\u001b[0;34m[\u001b[0m\u001b[0;36m0\u001b[0m\u001b[0;34m]\u001b[0m\u001b[0;34m*\u001b[0m\u001b[0msize\u001b[0m\u001b[0;34m)\u001b[0m\u001b[0;34m)\u001b[0m\u001b[0;34m)\u001b[0m\u001b[0;34m\u001b[0m\u001b[0;34m\u001b[0m\u001b[0m\n",
      "\u001b[0;32m~/opt/anaconda3/lib/python3.8/site-packages/PIL/Image.py\u001b[0m in \u001b[0;36mfromarray\u001b[0;34m(obj, mode)\u001b[0m\n\u001b[1;32m   2772\u001b[0m             \u001b[0mmode\u001b[0m\u001b[0;34m,\u001b[0m \u001b[0mrawmode\u001b[0m \u001b[0;34m=\u001b[0m \u001b[0m_fromarray_typemap\u001b[0m\u001b[0;34m[\u001b[0m\u001b[0mtypekey\u001b[0m\u001b[0;34m]\u001b[0m\u001b[0;34m\u001b[0m\u001b[0;34m\u001b[0m\u001b[0m\n\u001b[1;32m   2773\u001b[0m         \u001b[0;32mexcept\u001b[0m \u001b[0mKeyError\u001b[0m \u001b[0;32mas\u001b[0m \u001b[0me\u001b[0m\u001b[0;34m:\u001b[0m\u001b[0;34m\u001b[0m\u001b[0;34m\u001b[0m\u001b[0m\n\u001b[0;32m-> 2774\u001b[0;31m             \u001b[0;32mraise\u001b[0m \u001b[0mTypeError\u001b[0m\u001b[0;34m(\u001b[0m\u001b[0;34m\"Cannot handle this data type: %s, %s\"\u001b[0m \u001b[0;34m%\u001b[0m \u001b[0mtypekey\u001b[0m\u001b[0;34m)\u001b[0m \u001b[0;32mfrom\u001b[0m \u001b[0me\u001b[0m\u001b[0;34m\u001b[0m\u001b[0;34m\u001b[0m\u001b[0m\n\u001b[0m\u001b[1;32m   2775\u001b[0m     \u001b[0;32melse\u001b[0m\u001b[0;34m:\u001b[0m\u001b[0;34m\u001b[0m\u001b[0;34m\u001b[0m\u001b[0m\n\u001b[1;32m   2776\u001b[0m         \u001b[0mrawmode\u001b[0m \u001b[0;34m=\u001b[0m \u001b[0mmode\u001b[0m\u001b[0;34m\u001b[0m\u001b[0;34m\u001b[0m\u001b[0m\n",
      "\u001b[0;31mTypeError\u001b[0m: Cannot handle this data type: (1, 1, 3), <f8"
     ]
    }
   ],
   "source": [
    "from PIL import Image\n",
    "cow = loadmat(os.path.join('images','image'))['image']\n",
    "\n",
    "pil_cow = Image.fromarray(cow)\n",
    "size = 0.2\n",
    "pil_cow = pil_cow.resize((int(cow.shape[1]*size), int(cow.shape[0]*size)))\n",
    "pil_cow = np.array(pil_cow)\n",
    "pil_\n",
    "\n",
    "plt.imshow(pil_cow)\n",
    "plt.show()"
   ]
  },
  {
   "cell_type": "code",
   "execution_count": 41,
   "metadata": {},
   "outputs": [
    {
     "data": {
      "text/plain": [
       "<matplotlib.image.AxesImage at 0x7f95bdc61040>"
      ]
     },
     "execution_count": 41,
     "metadata": {},
     "output_type": "execute_result"
    },
    {
     "data": {
      "image/png": "[encoded data removed]",
      "text/plain": [
       "<Figure size 432x288 with 1 Axes>"
      ]
     },
     "metadata": {
      "needs_background": "light"
     },
     "output_type": "display_data"
    }
   ],
   "source": [
    "u0 = loadmat(os.path.join('images','color_rect_u0'))['u0']\n",
    "plt.imshow(u0)\n"
   ]
  },
  {
   "cell_type": "markdown",
   "metadata": {},
   "source": []
  }
 ],
 "metadata": {
  "interpreter": {
   "hash": "2a6f67acb67282821c2e3678c5844005177c7e3bfa841b9903fc8bd722b75eac"
  },
  "kernelspec": {
   "display_name": "Python 3.8.8 ('base')",
   "language": "python",
   "name": "python3"
  },
  "language_info": {
   "codemirror_mode": {
    "name": "ipython",
    "version": 3
   },
   "file_extension": ".py",
   "mimetype": "text/x-python",
   "name": "python",
   "nbconvert_exporter": "python",
   "pygments_lexer": "ipython3",
   "version": "3.8.8"
  },
  "orig_nbformat": 4
 },
 "nbformat": 4,
 "nbformat_minor": 2
}
